{
 "cells": [
  {
   "cell_type": "markdown",
   "metadata": {},
   "source": [
    "District lines have a significant effect on elections in the United States. The process of drawing these lines is neither transparent nor impartial.\n"
   ]
  },
  {
   "cell_type": "markdown",
   "metadata": {},
   "source": [
    "This site showcases a transparent, actionable method for drawing district lines. The core of the method is simple: we seek to minimize the distance between elected officials and their constituents.\n",
    "\n",
    "This method is also flexible enough to address the varied legal constraints that are part of the districting process, including drawing minority-majority districts."
   ]
  },
  {
   "cell_type": "markdown",
   "metadata": {},
   "source": [
    "Our blog contains more detailed information about the districting problem, and our algorithm. We give maps of our algorithm applied to every state."
   ]
  },
  {
   "cell_type": "code",
   "execution_count": 1,
   "metadata": {
    "collapsed": false,
    "nbpresent": {
     "id": "6be56d5e-9be9-4327-ac69-925325c76659"
    }
   },
   "outputs": [
    {
     "data": {
      "text/plain": [
       "6"
      ]
     },
     "execution_count": 1,
     "metadata": {},
     "output_type": "execute_result"
    }
   ],
   "source": [
    "a = 4\n",
    "b = 2\n",
    "a+b"
   ]
  },
  {
   "cell_type": "code",
   "execution_count": null,
   "metadata": {
    "collapsed": true,
    "nbpresent": {
     "id": "ef0f9a5d-3d24-4744-b324-74f3b75d6712"
    }
   },
   "outputs": [],
   "source": []
  }
 ],
 "metadata": {
  "kernelspec": {
   "display_name": "Python [conda root]",
   "language": "python",
   "name": "conda-root-py"
  },
  "language_info": {
   "codemirror_mode": {
    "name": "ipython",
    "version": 3
   },
   "file_extension": ".py",
   "mimetype": "text/x-python",
   "name": "python",
   "nbconvert_exporter": "python",
   "pygments_lexer": "ipython3",
   "version": "3.5.0rc4"
  },
  "nbpresent": {
   "slides": {
    "1e1d6b3e-626d-4bc5-97d1-3ed11a7305f0": {
     "id": "1e1d6b3e-626d-4bc5-97d1-3ed11a7305f0",
     "prev": "fed73d0a-e664-4994-bf1f-a73a9522146b",
     "regions": {
      "faef9e3a-2162-414e-8d25-36aafd65d891": {
       "attrs": {
        "height": 0.8,
        "width": 0.8,
        "x": 0.1,
        "y": 0.1
       },
       "content": {
        "cell": "fea19d99-54d8-4339-9647-c8a776d65a74",
        "part": "source"
       },
       "id": "faef9e3a-2162-414e-8d25-36aafd65d891"
      }
     }
    },
    "cfef94fd-ecec-4730-a0ca-ec80de9983cc": {
     "id": "cfef94fd-ecec-4730-a0ca-ec80de9983cc",
     "prev": null,
     "regions": {
      "b7e874ab-9eb6-441a-9685-e12b919cb143": {
       "attrs": {
        "height": 0.8,
        "width": 0.8,
        "x": 0.1,
        "y": 0.1
       },
       "content": {
        "cell": "d22eb0bc-93e2-4259-a760-49f312ba326e",
        "part": "source"
       },
       "id": "b7e874ab-9eb6-441a-9685-e12b919cb143"
      }
     }
    },
    "db5f1a17-8e0e-4b82-900f-cb09f11d13ef": {
     "id": "db5f1a17-8e0e-4b82-900f-cb09f11d13ef",
     "prev": "1e1d6b3e-626d-4bc5-97d1-3ed11a7305f0",
     "regions": {
      "8ddf8c65-bad3-417f-bb63-4f1687cd9102": {
       "attrs": {
        "height": 0.8,
        "width": 0.8000000000000002,
        "x": 0.10000000000000002,
        "y": 0.1
       },
       "content": {
        "cell": "6be56d5e-9be9-4327-ac69-925325c76659",
        "part": "source"
       },
       "id": "8ddf8c65-bad3-417f-bb63-4f1687cd9102"
      }
     },
     "theme": null
    },
    "fed73d0a-e664-4994-bf1f-a73a9522146b": {
     "id": "fed73d0a-e664-4994-bf1f-a73a9522146b",
     "prev": "cfef94fd-ecec-4730-a0ca-ec80de9983cc",
     "regions": {
      "aefc32ca-dd57-4eb1-8b67-51cd8f8f46f0": {
       "attrs": {
        "height": 0.8,
        "width": 0.8,
        "x": 0.1,
        "y": 0.1
       },
       "content": {
        "cell": "8ac37c04-f2e2-4b33-9fa3-b6064a653211",
        "part": "source"
       },
       "id": "aefc32ca-dd57-4eb1-8b67-51cd8f8f46f0"
      }
     }
    }
   },
   "themes": {}
  }
 },
 "nbformat": 4,
 "nbformat_minor": 1
}
